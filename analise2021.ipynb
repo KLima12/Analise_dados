{
 "cells": [
  {
   "cell_type": "code",
   "execution_count": 12,
   "metadata": {},
   "outputs": [],
   "source": [
    "import pandas as pd\n",
    "\n",
    "colunas = ['NU_INSCRICAO', 'IN_TREINEIRO', 'TP_SEXO', 'NU_NOTA_CN', 'NU_NOTA_MT', 'NU_NOTA_LC', 'NU_NOTA_CH', 'NU_NOTA_REDACAO']\n",
    "microdadosEnem = pd.read_csv('MICRODADOS_ENEM_2021.csv', sep=\";\", encoding='ISO-8859-1', usecols=colunas)"
   ]
  },
  {
   "cell_type": "markdown",
   "metadata": {},
   "source": [
    "**Dados de média das notas 2021**"
   ]
  },
  {
   "cell_type": "code",
   "execution_count": 7,
   "metadata": {},
   "outputs": [
    {
     "data": {
      "text/html": [
       "<div>\n",
       "<style scoped>\n",
       "    .dataframe tbody tr th:only-of-type {\n",
       "        vertical-align: middle;\n",
       "    }\n",
       "\n",
       "    .dataframe tbody tr th {\n",
       "        vertical-align: top;\n",
       "    }\n",
       "\n",
       "    .dataframe thead th {\n",
       "        text-align: right;\n",
       "    }\n",
       "</style>\n",
       "<table border=\"1\" class=\"dataframe\">\n",
       "  <thead>\n",
       "    <tr style=\"text-align: right;\">\n",
       "      <th></th>\n",
       "      <th>MEDIA_MAT</th>\n",
       "      <th>MEDIA_CN</th>\n",
       "      <th>MEDIA_LC</th>\n",
       "      <th>MEDIA_CH</th>\n",
       "    </tr>\n",
       "  </thead>\n",
       "  <tbody>\n",
       "    <tr>\n",
       "      <th>0</th>\n",
       "      <td>535.080186</td>\n",
       "      <td>491.785675</td>\n",
       "      <td>502.555569</td>\n",
       "      <td>519.943395</td>\n",
       "    </tr>\n",
       "  </tbody>\n",
       "</table>\n",
       "</div>"
      ],
      "text/plain": [
       "    MEDIA_MAT    MEDIA_CN    MEDIA_LC    MEDIA_CH\n",
       "0  535.080186  491.785675  502.555569  519.943395"
      ]
     },
     "execution_count": 7,
     "metadata": {},
     "output_type": "execute_result"
    }
   ],
   "source": [
    "dados_nota_cn = microdadosEnem['NU_NOTA_CN'].mean()\n",
    "dados_nota_mt = microdadosEnem['NU_NOTA_MT'].mean()\n",
    "dados_nota_lc = microdadosEnem['NU_NOTA_LC'].mean()\n",
    "dados_nota_ch = microdadosEnem['NU_NOTA_CH'].mean()\n",
    "\n",
    "media_notas = pd.DataFrame({\n",
    "    \"MEDIA_MAT\": [dados_nota_mt],\n",
    "    \"MEDIA_CN\": [dados_nota_cn],\n",
    "    \"MEDIA_LC\": [dados_nota_lc],\n",
    "    \"MEDIA_CH\": [dados_nota_ch],\n",
    "})\n",
    "\n",
    "media_notas"
   ]
  },
  {
   "cell_type": "markdown",
   "metadata": {},
   "source": [
    "**Quantidade inscritos**"
   ]
  },
  {
   "cell_type": "code",
   "execution_count": 8,
   "metadata": {},
   "outputs": [
    {
     "name": "stdout",
     "output_type": "stream",
     "text": [
      "A quantidade do número de inscritos é: 3.389.832\n"
     ]
    }
   ],
   "source": [
    "# Contando os inscritos\n",
    "qtd_inscritos = microdadosEnem['NU_INSCRICAO'].count()\n",
    "\n",
    "# Aqui formatei o valor para '.'\n",
    "numero_formatado = \"{:,.0f}\".format(qtd_inscritos).replace(',', 'X').replace('.', ',').replace('X', '.')\n",
    "\n",
    "# Imprimindo a mensagem\n",
    "print(f\"A quantidade do número de inscritos é: {numero_formatado}\")\n"
   ]
  },
  {
   "cell_type": "markdown",
   "metadata": {},
   "source": [
    "Quantidade de inscritos entre os sexos Masculinos e Femininos"
   ]
  },
  {
   "cell_type": "code",
   "execution_count": 9,
   "metadata": {},
   "outputs": [
    {
     "data": {
      "text/html": [
       "<div>\n",
       "<style scoped>\n",
       "    .dataframe tbody tr th:only-of-type {\n",
       "        vertical-align: middle;\n",
       "    }\n",
       "\n",
       "    .dataframe tbody tr th {\n",
       "        vertical-align: top;\n",
       "    }\n",
       "\n",
       "    .dataframe thead th {\n",
       "        text-align: right;\n",
       "    }\n",
       "</style>\n",
       "<table border=\"1\" class=\"dataframe\">\n",
       "  <thead>\n",
       "    <tr style=\"text-align: right;\">\n",
       "      <th></th>\n",
       "      <th>TP_SEXO</th>\n",
       "      <th>NU_INSCRICAO</th>\n",
       "    </tr>\n",
       "  </thead>\n",
       "  <tbody>\n",
       "    <tr>\n",
       "      <th>0</th>\n",
       "      <td>F</td>\n",
       "      <td>2.090.526</td>\n",
       "    </tr>\n",
       "    <tr>\n",
       "      <th>1</th>\n",
       "      <td>M</td>\n",
       "      <td>1.299.306</td>\n",
       "    </tr>\n",
       "  </tbody>\n",
       "</table>\n",
       "</div>"
      ],
      "text/plain": [
       "  TP_SEXO NU_INSCRICAO\n",
       "0       F    2.090.526\n",
       "1       M    1.299.306"
      ]
     },
     "execution_count": 9,
     "metadata": {},
     "output_type": "execute_result"
    }
   ],
   "source": [
    "tabela_inscritos = microdadosEnem.groupby('TP_SEXO')['NU_INSCRICAO'].count().reset_index()\n",
    "# Formatando a coluna NU_INSCRICAO\n",
    "tabela_inscritos['NU_INSCRICAO'] = tabela_inscritos['NU_INSCRICAO'].apply(lambda x: \"{:,.0f}\".format(x).replace(',', 'X').replace('.', ',').replace('X', '.'))\n",
    "\n",
    "tabela_inscritos"
   ]
  },
  {
   "cell_type": "markdown",
   "metadata": {},
   "source": [
    "Média de notas de matemática Mulheres e Homens"
   ]
  },
  {
   "cell_type": "code",
   "execution_count": 10,
   "metadata": {},
   "outputs": [
    {
     "data": {
      "text/html": [
       "<div>\n",
       "<style scoped>\n",
       "    .dataframe tbody tr th:only-of-type {\n",
       "        vertical-align: middle;\n",
       "    }\n",
       "\n",
       "    .dataframe tbody tr th {\n",
       "        vertical-align: top;\n",
       "    }\n",
       "\n",
       "    .dataframe thead th {\n",
       "        text-align: right;\n",
       "    }\n",
       "</style>\n",
       "<table border=\"1\" class=\"dataframe\">\n",
       "  <thead>\n",
       "    <tr style=\"text-align: right;\">\n",
       "      <th></th>\n",
       "      <th>TP_SEXO</th>\n",
       "      <th>NU_NOTA_MT</th>\n",
       "    </tr>\n",
       "  </thead>\n",
       "  <tbody>\n",
       "    <tr>\n",
       "      <th>0</th>\n",
       "      <td>F</td>\n",
       "      <td>519.805384</td>\n",
       "    </tr>\n",
       "    <tr>\n",
       "      <th>1</th>\n",
       "      <td>M</td>\n",
       "      <td>559.703852</td>\n",
       "    </tr>\n",
       "  </tbody>\n",
       "</table>\n",
       "</div>"
      ],
      "text/plain": [
       "  TP_SEXO  NU_NOTA_MT\n",
       "0       F  519.805384\n",
       "1       M  559.703852"
      ]
     },
     "execution_count": 10,
     "metadata": {},
     "output_type": "execute_result"
    }
   ],
   "source": [
    "tabela_media = microdadosEnem.groupby('TP_SEXO')['NU_NOTA_MT'].mean().reset_index()\n",
    "tabela_media"
   ]
  },
  {
   "cell_type": "code",
   "execution_count": 14,
   "metadata": {},
   "outputs": [
    {
     "name": "stdout",
     "output_type": "stream",
     "text": [
      "A quantidade de pessoas que tiraram mais de 900: 111.199\n"
     ]
    }
   ],
   "source": [
    "filtrar = microdadosEnem['NU_NOTA_REDACAO'] > 900\n",
    "dados_redacao = microdadosEnem[filtrar]\n",
    "numeros_acima_900 = dados_redacao['NU_NOTA_REDACAO'].count()\n",
    "numero_formatado = \"{:,.0f}\".format(numeros_acima_900).replace(',', 'X').replace('.', ',').replace('X', '.')\n",
    "print(f\"A quantidade de pessoas que tiraram mais de 900: {numero_formatado}\")"
   ]
  }
 ],
 "metadata": {
  "kernelspec": {
   "display_name": "Python 3",
   "language": "python",
   "name": "python3"
  },
  "language_info": {
   "codemirror_mode": {
    "name": "ipython",
    "version": 3
   },
   "file_extension": ".py",
   "mimetype": "text/x-python",
   "name": "python",
   "nbconvert_exporter": "python",
   "pygments_lexer": "ipython3",
   "version": "3.11.9"
  }
 },
 "nbformat": 4,
 "nbformat_minor": 2
}
