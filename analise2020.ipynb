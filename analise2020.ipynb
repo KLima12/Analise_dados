{
 "cells": [
  {
   "cell_type": "code",
   "execution_count": 2,
   "metadata": {},
   "outputs": [],
   "source": [
    "import pandas as pd\n",
    "\n",
    "colunas = ['NU_INSCRICAO', 'IN_TREINEIRO', 'TP_SEXO', 'NU_NOTA_CN', 'NU_NOTA_MT', 'NU_NOTA_LC', 'NU_NOTA_CH', 'NU_NOTA_REDACAO']\n",
    "microdadosEnem = pd.read_csv('MICRODADOS_ENEM_2020.csv', sep=\";\", encoding='ISO-8859-1', usecols=colunas)"
   ]
  },
  {
   "cell_type": "markdown",
   "metadata": {},
   "source": [
    "**Quantidade inscritos**"
   ]
  },
  {
   "cell_type": "code",
   "execution_count": 3,
   "metadata": {},
   "outputs": [
    {
     "name": "stdout",
     "output_type": "stream",
     "text": [
      "A quantidade do número de inscritos é: 5.783.109\n"
     ]
    }
   ],
   "source": [
    "# Contando os inscritos\n",
    "qtd_inscritos = microdadosEnem['NU_INSCRICAO'].count()\n",
    "\n",
    "# Aqui formatei o valor para '.'\n",
    "numero_formatado = \"{:,.0f}\".format(qtd_inscritos).replace(',', 'X').replace('.', ',').replace('X', '.')\n",
    "\n",
    "# Imprimindo a mensagem\n",
    "print(f\"A quantidade do número de inscritos é: {numero_formatado}\")"
   ]
  },
  {
   "cell_type": "markdown",
   "metadata": {},
   "source": [
    "**Quantidade de inscritos entre os sexos Masculinos e Femininos**"
   ]
  },
  {
   "cell_type": "code",
   "execution_count": 4,
   "metadata": {},
   "outputs": [
    {
     "data": {
      "text/html": [
       "<div>\n",
       "<style scoped>\n",
       "    .dataframe tbody tr th:only-of-type {\n",
       "        vertical-align: middle;\n",
       "    }\n",
       "\n",
       "    .dataframe tbody tr th {\n",
       "        vertical-align: top;\n",
       "    }\n",
       "\n",
       "    .dataframe thead th {\n",
       "        text-align: right;\n",
       "    }\n",
       "</style>\n",
       "<table border=\"1\" class=\"dataframe\">\n",
       "  <thead>\n",
       "    <tr style=\"text-align: right;\">\n",
       "      <th></th>\n",
       "      <th>TP_SEXO</th>\n",
       "      <th>NU_INSCRICAO</th>\n",
       "    </tr>\n",
       "  </thead>\n",
       "  <tbody>\n",
       "    <tr>\n",
       "      <th>0</th>\n",
       "      <td>F</td>\n",
       "      <td>3.468.805</td>\n",
       "    </tr>\n",
       "    <tr>\n",
       "      <th>1</th>\n",
       "      <td>M</td>\n",
       "      <td>2.314.304</td>\n",
       "    </tr>\n",
       "  </tbody>\n",
       "</table>\n",
       "</div>"
      ],
      "text/plain": [
       "  TP_SEXO NU_INSCRICAO\n",
       "0       F    3.468.805\n",
       "1       M    2.314.304"
      ]
     },
     "execution_count": 4,
     "metadata": {},
     "output_type": "execute_result"
    }
   ],
   "source": [
    "tabela_inscritos = microdadosEnem.groupby('TP_SEXO')['NU_INSCRICAO'].count().reset_index()\n",
    "# Formatando a coluna NU_INSCRICAO\n",
    "tabela_inscritos['NU_INSCRICAO'] = tabela_inscritos['NU_INSCRICAO'].apply(lambda x: \"{:,.0f}\".format(x).replace(',', 'X').replace('.', ',').replace('X', '.'))\n",
    "\n",
    "tabela_inscritos"
   ]
  },
  {
   "cell_type": "markdown",
   "metadata": {},
   "source": [
    "**Dados de média nota de 2020**"
   ]
  },
  {
   "cell_type": "code",
   "execution_count": 5,
   "metadata": {},
   "outputs": [
    {
     "data": {
      "text/html": [
       "<div>\n",
       "<style scoped>\n",
       "    .dataframe tbody tr th:only-of-type {\n",
       "        vertical-align: middle;\n",
       "    }\n",
       "\n",
       "    .dataframe tbody tr th {\n",
       "        vertical-align: top;\n",
       "    }\n",
       "\n",
       "    .dataframe thead th {\n",
       "        text-align: right;\n",
       "    }\n",
       "</style>\n",
       "<table border=\"1\" class=\"dataframe\">\n",
       "  <thead>\n",
       "    <tr style=\"text-align: right;\">\n",
       "      <th></th>\n",
       "      <th>MEDIA_MAT</th>\n",
       "      <th>MEDIA_CN</th>\n",
       "      <th>MEDIA_LC</th>\n",
       "      <th>MEDIA_CH</th>\n",
       "      <th>MEDIA_RED</th>\n",
       "    </tr>\n",
       "  </thead>\n",
       "  <tbody>\n",
       "    <tr>\n",
       "      <th>0</th>\n",
       "      <td>520.578335</td>\n",
       "      <td>490.409792</td>\n",
       "      <td>523.800936</td>\n",
       "      <td>511.152202</td>\n",
       "      <td>573.412724</td>\n",
       "    </tr>\n",
       "  </tbody>\n",
       "</table>\n",
       "</div>"
      ],
      "text/plain": [
       "    MEDIA_MAT    MEDIA_CN    MEDIA_LC    MEDIA_CH   MEDIA_RED\n",
       "0  520.578335  490.409792  523.800936  511.152202  573.412724"
      ]
     },
     "execution_count": 5,
     "metadata": {},
     "output_type": "execute_result"
    }
   ],
   "source": [
    "dados_nota_cn = microdadosEnem['NU_NOTA_CN'].mean()\n",
    "dados_nota_mt = microdadosEnem['NU_NOTA_MT'].mean()\n",
    "dados_nota_lc = microdadosEnem['NU_NOTA_LC'].mean()\n",
    "dados_nota_ch = microdadosEnem['NU_NOTA_CH'].mean()\n",
    "dados_nota_red = microdadosEnem['NU_NOTA_REDACAO'].mean()\n",
    "media_notas = pd.DataFrame({\n",
    "    \"MEDIA_MAT\": [dados_nota_mt],\n",
    "    \"MEDIA_CN\": [dados_nota_cn],\n",
    "    \"MEDIA_LC\": [dados_nota_lc],\n",
    "    \"MEDIA_CH\": [dados_nota_ch],\n",
    "    \"MEDIA_RED\": [dados_nota_red],\n",
    "})\n",
    "\n",
    "media_notas"
   ]
  },
  {
   "cell_type": "markdown",
   "metadata": {},
   "source": [
    "**Média de notas Redação entre Homens e Mulheres**"
   ]
  },
  {
   "cell_type": "code",
   "execution_count": 11,
   "metadata": {},
   "outputs": [
    {
     "data": {
      "text/html": [
       "<div>\n",
       "<style scoped>\n",
       "    .dataframe tbody tr th:only-of-type {\n",
       "        vertical-align: middle;\n",
       "    }\n",
       "\n",
       "    .dataframe tbody tr th {\n",
       "        vertical-align: top;\n",
       "    }\n",
       "\n",
       "    .dataframe thead th {\n",
       "        text-align: right;\n",
       "    }\n",
       "</style>\n",
       "<table border=\"1\" class=\"dataframe\">\n",
       "  <thead>\n",
       "    <tr style=\"text-align: right;\">\n",
       "      <th></th>\n",
       "      <th>TP_SEXO</th>\n",
       "      <th>NU_NOTA_REDACAO</th>\n",
       "    </tr>\n",
       "  </thead>\n",
       "  <tbody>\n",
       "    <tr>\n",
       "      <th>0</th>\n",
       "      <td>F</td>\n",
       "      <td>588.297913</td>\n",
       "    </tr>\n",
       "    <tr>\n",
       "      <th>1</th>\n",
       "      <td>M</td>\n",
       "      <td>550.703832</td>\n",
       "    </tr>\n",
       "  </tbody>\n",
       "</table>\n",
       "</div>"
      ],
      "text/plain": [
       "  TP_SEXO  NU_NOTA_REDACAO\n",
       "0       F       588.297913\n",
       "1       M       550.703832"
      ]
     },
     "execution_count": 11,
     "metadata": {},
     "output_type": "execute_result"
    }
   ],
   "source": [
    "tabela_media = microdadosEnem.groupby('TP_SEXO')['NU_NOTA_REDACAO'].mean().reset_index()\n",
    "tabela_media"
   ]
  },
  {
   "cell_type": "markdown",
   "metadata": {},
   "source": [
    "**Quantas pessoas tiraram nota acima de 900 na redação em 2020 ?**"
   ]
  },
  {
   "cell_type": "code",
   "execution_count": 12,
   "metadata": {},
   "outputs": [
    {
     "name": "stdout",
     "output_type": "stream",
     "text": [
      "A quantidade de pessoas que tiraram mais de 900: 138.510\n"
     ]
    }
   ],
   "source": [
    "filtrar = microdadosEnem['NU_NOTA_REDACAO'] > 900\n",
    "dados_redacao = microdadosEnem[filtrar]\n",
    "numeros_acima_900 = dados_redacao['NU_NOTA_REDACAO'].count()\n",
    "numero_formatado = \"{:,.0f}\".format(numeros_acima_900).replace(',', 'X').replace('.', ',').replace('X', '.')\n",
    "print(f\"A quantidade de pessoas que tiraram mais de 900: {numero_formatado}\")"
   ]
  },
  {
   "cell_type": "markdown",
   "metadata": {},
   "source": [
    "**Quantas pessoas entre homens e mulheres tiraram acima de 900 ?**"
   ]
  },
  {
   "cell_type": "code",
   "execution_count": 13,
   "metadata": {},
   "outputs": [
    {
     "data": {
      "text/html": [
       "<div>\n",
       "<style scoped>\n",
       "    .dataframe tbody tr th:only-of-type {\n",
       "        vertical-align: middle;\n",
       "    }\n",
       "\n",
       "    .dataframe tbody tr th {\n",
       "        vertical-align: top;\n",
       "    }\n",
       "\n",
       "    .dataframe thead th {\n",
       "        text-align: right;\n",
       "    }\n",
       "</style>\n",
       "<table border=\"1\" class=\"dataframe\">\n",
       "  <thead>\n",
       "    <tr style=\"text-align: right;\">\n",
       "      <th></th>\n",
       "      <th>NU_NOTA_REDACAO</th>\n",
       "    </tr>\n",
       "    <tr>\n",
       "      <th>TP_SEXO</th>\n",
       "      <th></th>\n",
       "    </tr>\n",
       "  </thead>\n",
       "  <tbody>\n",
       "    <tr>\n",
       "      <th>F</th>\n",
       "      <td>95.457</td>\n",
       "    </tr>\n",
       "    <tr>\n",
       "      <th>M</th>\n",
       "      <td>43.053</td>\n",
       "    </tr>\n",
       "  </tbody>\n",
       "</table>\n",
       "</div>"
      ],
      "text/plain": [
       "        NU_NOTA_REDACAO\n",
       "TP_SEXO                \n",
       "F                95.457\n",
       "M                43.053"
      ]
     },
     "execution_count": 13,
     "metadata": {},
     "output_type": "execute_result"
    }
   ],
   "source": [
    "filtro_1 = microdadosEnem['NU_NOTA_REDACAO'] > 900\n",
    "selecao_acima_900 = microdadosEnem[filtro_1]\n",
    "selecao_acima_900\n",
    "\n",
    "quantidade = selecao_acima_900.groupby('TP_SEXO')['NU_NOTA_REDACAO'].count().to_frame()\n",
    "# Formatando com separador de milhar (ponto) e sem casas decimais\n",
    "quantidade['NU_NOTA_REDACAO'] = quantidade['NU_NOTA_REDACAO'].map('{:,.0f}'.format).str.replace(',', '.')\n",
    "quantidade"
   ]
  }
 ],
 "metadata": {
  "kernelspec": {
   "display_name": "Python 3",
   "language": "python",
   "name": "python3"
  },
  "language_info": {
   "codemirror_mode": {
    "name": "ipython",
    "version": 3
   },
   "file_extension": ".py",
   "mimetype": "text/x-python",
   "name": "python",
   "nbconvert_exporter": "python",
   "pygments_lexer": "ipython3",
   "version": "3.11.9"
  }
 },
 "nbformat": 4,
 "nbformat_minor": 2
}
