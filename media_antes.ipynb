{
 "cells": [
  {
   "cell_type": "code",
   "execution_count": 69,
   "metadata": {},
   "outputs": [],
   "source": [
    "import pandas as pd\n",
    "\n",
    "colunas = ['NU_INSCRICAO', 'IN_TREINEIRO', 'TP_SEXO', 'NU_NOTA_CN', 'NU_NOTA_MT', 'NU_NOTA_LC', 'NU_NOTA_CH', 'NU_NOTA_REDACAO']\n",
    "microdadosEnem = pd.read_csv('MICRODADOS_ENEM_2018.csv', sep=\";\", encoding='ISO-8859-1', usecols=colunas)\n",
    "\n",
    "import pandas as pd\n",
    "\n",
    "colunas2 = ['NU_INSCRICAO', 'IN_TREINEIRO', 'TP_SEXO', 'NU_NOTA_CN', 'NU_NOTA_MT', 'NU_NOTA_LC', 'NU_NOTA_CH', 'NU_NOTA_REDACAO']\n",
    "microdadosEnem = pd.read_csv('MICRODADOS_ENEM_2019.csv', sep=\";\", encoding='ISO-8859-1', usecols=colunas2)"
   ]
  },
  {
   "cell_type": "markdown",
   "metadata": {},
   "source": [
    "**Média todas as notas de 2018 e 2019**"
   ]
  },
  {
   "cell_type": "code",
   "execution_count": 34,
   "metadata": {},
   "outputs": [
    {
     "data": {
      "text/html": [
       "<div>\n",
       "<style scoped>\n",
       "    .dataframe tbody tr th:only-of-type {\n",
       "        vertical-align: middle;\n",
       "    }\n",
       "\n",
       "    .dataframe tbody tr th {\n",
       "        vertical-align: top;\n",
       "    }\n",
       "\n",
       "    .dataframe thead th {\n",
       "        text-align: right;\n",
       "    }\n",
       "</style>\n",
       "<table border=\"1\" class=\"dataframe\">\n",
       "  <thead>\n",
       "    <tr style=\"text-align: right;\">\n",
       "      <th></th>\n",
       "      <th>MEDIA_MAT</th>\n",
       "      <th>MEDIA_CN</th>\n",
       "      <th>MEDIA_LC</th>\n",
       "      <th>MEDIA_CH</th>\n",
       "      <th>MEDIA_RED</th>\n",
       "    </tr>\n",
       "  </thead>\n",
       "  <tbody>\n",
       "    <tr>\n",
       "      <th>0</th>\n",
       "      <td>535.405</td>\n",
       "      <td>493.683</td>\n",
       "      <td>526.453</td>\n",
       "      <td>568.097</td>\n",
       "      <td>508.679</td>\n",
       "    </tr>\n",
       "  </tbody>\n",
       "</table>\n",
       "</div>"
      ],
      "text/plain": [
       "   MEDIA_MAT  MEDIA_CN  MEDIA_LC  MEDIA_CH  MEDIA_RED\n",
       "0    535.405   493.683   526.453   568.097    508.679"
      ]
     },
     "execution_count": 34,
     "metadata": {},
     "output_type": "execute_result"
    }
   ],
   "source": [
    "\n",
    "todas_notas_2018 = pd.DataFrame({\n",
    "    \"MEDIA_MAT\": [535.405],\n",
    "    \"MEDIA_CN\": [493.683],\n",
    "    \"MEDIA_LC\": [526.453],\n",
    "    \"MEDIA_CH\": [568.097],\n",
    "    \"MEDIA_RED\": [508.679],\n",
    "})\n",
    "\n",
    "todas_notas_2018"
   ]
  },
  {
   "cell_type": "code",
   "execution_count": 39,
   "metadata": {},
   "outputs": [
    {
     "data": {
      "text/html": [
       "<div>\n",
       "<style scoped>\n",
       "    .dataframe tbody tr th:only-of-type {\n",
       "        vertical-align: middle;\n",
       "    }\n",
       "\n",
       "    .dataframe tbody tr th {\n",
       "        vertical-align: top;\n",
       "    }\n",
       "\n",
       "    .dataframe thead th {\n",
       "        text-align: right;\n",
       "    }\n",
       "</style>\n",
       "<table border=\"1\" class=\"dataframe\">\n",
       "  <thead>\n",
       "    <tr style=\"text-align: right;\">\n",
       "      <th></th>\n",
       "      <th>MEDIA_MAT</th>\n",
       "      <th>MEDIA_CN</th>\n",
       "      <th>MEDIA_LC</th>\n",
       "      <th>MEDIA_CH</th>\n",
       "      <th>MEDIA_RED</th>\n",
       "    </tr>\n",
       "  </thead>\n",
       "  <tbody>\n",
       "    <tr>\n",
       "      <th>0</th>\n",
       "      <td>523.124</td>\n",
       "      <td>477.823</td>\n",
       "      <td>520.517</td>\n",
       "      <td>507.247</td>\n",
       "      <td>571.18</td>\n",
       "    </tr>\n",
       "  </tbody>\n",
       "</table>\n",
       "</div>"
      ],
      "text/plain": [
       "   MEDIA_MAT  MEDIA_CN  MEDIA_LC  MEDIA_CH  MEDIA_RED\n",
       "0    523.124   477.823   520.517   507.247     571.18"
      ]
     },
     "execution_count": 39,
     "metadata": {},
     "output_type": "execute_result"
    }
   ],
   "source": [
    "todas_notas_2019 = pd.DataFrame({\n",
    "    \"MEDIA_MAT\": [523.124],\n",
    "    \"MEDIA_CN\": [477.823],\n",
    "    \"MEDIA_LC\": [520.517],\n",
    "    \"MEDIA_CH\": [507.247],\n",
    "    \"MEDIA_RED\": [571.18],\n",
    "})\n",
    "\n",
    "todas_notas_2019"
   ]
  },
  {
   "cell_type": "markdown",
   "metadata": {},
   "source": [
    "**Comparando média matemática antes da pandemia**"
   ]
  },
  {
   "cell_type": "code",
   "execution_count": 44,
   "metadata": {},
   "outputs": [
    {
     "data": {
      "text/plain": [
       "0    529.2645\n",
       "Name: MEDIA_MAT, dtype: float64"
      ]
     },
     "execution_count": 44,
     "metadata": {},
     "output_type": "execute_result"
    }
   ],
   "source": [
    "selecao1 = todas_notas_2018['MEDIA_MAT']\n",
    "selecao2 = todas_notas_2019['MEDIA_MAT']\n",
    "\n",
    "media_matematica = (selecao1 + selecao2) / 2\n",
    "media_matematica"
   ]
  },
  {
   "cell_type": "markdown",
   "metadata": {},
   "source": [
    "**Ciências da natureza antes da pandemia**"
   ]
  },
  {
   "cell_type": "code",
   "execution_count": 47,
   "metadata": {},
   "outputs": [
    {
     "data": {
      "text/plain": [
       "0    485.753\n",
       "Name: MEDIA_CN, dtype: float64"
      ]
     },
     "execution_count": 47,
     "metadata": {},
     "output_type": "execute_result"
    }
   ],
   "source": [
    "selecao1 = todas_notas_2018['MEDIA_CN']\n",
    "selecao2 = todas_notas_2019['MEDIA_CN']\n",
    "\n",
    "media_CN = (selecao1 + selecao2) / 2\n",
    "media_CN"
   ]
  },
  {
   "cell_type": "markdown",
   "metadata": {},
   "source": [
    "**Linguagens e códigos antes da pandemia**"
   ]
  },
  {
   "cell_type": "code",
   "execution_count": 48,
   "metadata": {},
   "outputs": [
    {
     "data": {
      "text/plain": [
       "0    523.485\n",
       "Name: MEDIA_LC, dtype: float64"
      ]
     },
     "execution_count": 48,
     "metadata": {},
     "output_type": "execute_result"
    }
   ],
   "source": [
    "selecao1 = todas_notas_2018['MEDIA_LC']\n",
    "selecao2 = todas_notas_2019['MEDIA_LC']\n",
    "\n",
    "media_LC = (selecao1 + selecao2) / 2\n",
    "media_LC"
   ]
  },
  {
   "cell_type": "markdown",
   "metadata": {},
   "source": [
    "**Ciências Humanas antes da pandemia**"
   ]
  },
  {
   "cell_type": "code",
   "execution_count": 49,
   "metadata": {},
   "outputs": [
    {
     "data": {
      "text/plain": [
       "0    537.672\n",
       "Name: MEDIA_CH, dtype: float64"
      ]
     },
     "execution_count": 49,
     "metadata": {},
     "output_type": "execute_result"
    }
   ],
   "source": [
    "selecao1 = todas_notas_2018['MEDIA_CH']\n",
    "selecao2 = todas_notas_2019['MEDIA_CH']\n",
    "\n",
    "media_CH = (selecao1 + selecao2) / 2\n",
    "media_CH"
   ]
  },
  {
   "cell_type": "markdown",
   "metadata": {},
   "source": [
    "**Média redação antes da pandemia**"
   ]
  },
  {
   "cell_type": "code",
   "execution_count": 50,
   "metadata": {},
   "outputs": [
    {
     "data": {
      "text/plain": [
       "0    539.9295\n",
       "Name: MEDIA_RED, dtype: float64"
      ]
     },
     "execution_count": 50,
     "metadata": {},
     "output_type": "execute_result"
    }
   ],
   "source": [
    "selecao1 = todas_notas_2018['MEDIA_RED']\n",
    "selecao2 = todas_notas_2019['MEDIA_RED']\n",
    "\n",
    "media_RED = (selecao1 + selecao2) / 2\n",
    "media_RED"
   ]
  },
  {
   "cell_type": "code",
   "execution_count": 67,
   "metadata": {},
   "outputs": [
    {
     "data": {
      "text/plain": [
       "np.float64(523.2208)"
      ]
     },
     "execution_count": 67,
     "metadata": {},
     "output_type": "execute_result"
    }
   ],
   "source": [
    "todos_dados_2018 = todas_notas_2018.sum()\n",
    "media_2018 = todos_dados_2018.mean()\n",
    "\n",
    "todos_dados_2019 = todas_notas_2019.sum()\n",
    "media_2019 = todos_dados_2019.mean()\n",
    "\n",
    "media = (media_2018 + media_2019) / 2\n",
    "\n",
    "media"
   ]
  },
  {
   "cell_type": "markdown",
   "metadata": {},
   "source": [
    "**Média das notas antes da pandemia por sexo**"
   ]
  },
  {
   "cell_type": "code",
   "execution_count": null,
   "metadata": {},
   "outputs": [],
   "source": []
  }
 ],
 "metadata": {
  "kernelspec": {
   "display_name": "Python 3",
   "language": "python",
   "name": "python3"
  },
  "language_info": {
   "codemirror_mode": {
    "name": "ipython",
    "version": 3
   },
   "file_extension": ".py",
   "mimetype": "text/x-python",
   "name": "python",
   "nbconvert_exporter": "python",
   "pygments_lexer": "ipython3",
   "version": "3.11.9"
  }
 },
 "nbformat": 4,
 "nbformat_minor": 2
}
